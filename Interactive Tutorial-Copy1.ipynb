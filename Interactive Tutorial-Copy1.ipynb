{
 "cells": [
  {
   "cell_type": "code",
   "execution_count": 1,
   "metadata": {},
   "outputs": [],
   "source": [
    "import numpy as np\n",
    "import matplotlib as pml\n",
    "import matplotlib.pyplot as plt\n",
    "from ipywidgets import interact, interactive, fixed, interact_manual\n",
    "import ipywidgets as widgets"
   ]
  },
  {
   "cell_type": "code",
   "execution_count": 2,
   "metadata": {},
   "outputs": [],
   "source": [
    "plt.rcParams['figure.figsize'] = (5,3)\n",
    "plt.rcParams['figure.dpi'] = 800"
   ]
  },
  {
   "cell_type": "code",
   "execution_count": 17,
   "metadata": {},
   "outputs": [],
   "source": [
    "# Base relevant variables\n",
    "us_farmland_market_acres = 190_000_000\n",
    "corn_carbon_pct = 44\n",
    "soy_carbon_pct = None #TODO fill value\n",
    "\n",
    "# Placeholder variables to use as back of the envelope calculations\n",
    "addnl_tonnes_carbon_captured_acre = 2 "
   ]
  },
  {
   "cell_type": "code",
   "execution_count": 80,
   "metadata": {},
   "outputs": [
    {
     "data": {
      "application/vnd.jupyter.widget-view+json": {
       "model_id": "e7b2a39cd4984eaa90e4732647898716",
       "version_major": 2,
       "version_minor": 0
      },
      "text/plain": [
       "VBox(children=(VBox(children=(ToggleButtons(description='Captured:', options=(('Typical Farm', 1000), ('1% US …"
      ]
     },
     "metadata": {},
     "output_type": "display_data"
    }
   ],
   "source": [
    "crop_choice = widgets.ToggleButtons(\n",
    "    options=[('Corn ($6)', 6),\n",
    "             ('Soybean ($13)', 13)\n",
    "            ],\n",
    "    description='Crop ($/bshl):',\n",
    "    disabled=True,\n",
    "    tooltips=['Description of slow',\n",
    "              'Description of regular',\n",
    "              'Description of fast'\n",
    "             ]\n",
    ")\n",
    "\n",
    "scale_choice = widgets.ToggleButtons(\n",
    "    options=[('USD', 1),\n",
    "             ('MM USD', 1/1_000_000),\n",
    "             ('Billion USD', 1/1_000_000_000)\n",
    "            ],\n",
    "    description='Scale:',\n",
    ")\n",
    "\n",
    "\n",
    "market_pen_choice = widgets.ToggleButtons(\n",
    "    options=[('Typical Farm', 1_000),\n",
    "             ('1% US Market', 0.01*us_farmland_market_acres),\n",
    "             ('2% US Market', 0.02*us_farmland_market_acres),\n",
    "             ('3% US Market', 0.03*us_farmland_market_acres),\n",
    "             ('US Market', us_farmland_market_acres)\n",
    "            ],\n",
    "    description='Captured:',\n",
    "    tooltips=['This models a typical 1000 acre farm',\n",
    "              'This models a 1% capture in the 190MM acres in the US used for corn and soybean',\n",
    "              'This models a 2% capture in the 190MM acres in the US used for corn and soybean',\n",
    "              'This models a 3% capture in the 190MM acres in the US used for corn and soybean',\n",
    "              'This models a 100% capture in the 190MM acres in the US used for corn and soybean'\n",
    "             ]\n",
    ")\n",
    "\n",
    "carbon_value_choice = widgets.ToggleButtons(\n",
    "    options=[('Avoidance ($15)', 15),\n",
    "             ('Capture [Low] ($100)', 100),\n",
    "             ('Capture [High] ($300)', 300)\n",
    "            ],\n",
    "    description='Credits ($):',\n",
    "    tooltips=['Description of slow',\n",
    "              'Description of regular',\n",
    "              'Description of fast'\n",
    "             ]\n",
    ")\n",
    "\n",
    "def market_value(market_pen_choice,\n",
    "      carbon_value_choice,\n",
    "      crop_choice,\n",
    "      scale_choice):\n",
    "    \"\"\"\n",
    "    This function returns the estimated value of a market captured under various conditions\n",
    "    The calculation is as follows:\n",
    "    Market Penetration * Carbon Credit Value * (Crop Carbon Pct/100) *  Crop Yield Increase (mTon)\n",
    "    \n",
    "    As of Feb 2022, the crop yield increase and carbon pct are out of scope, so a placeholder value of 2 mTons/acre\n",
    "    marginal capture is used. \n",
    "    \"\"\"\n",
    "    scale_dict = {1:'USD',\n",
    "             1/1_000_000:'MM USD',\n",
    "             1/1_000_000_000:'Billion USD'}\n",
    "    overall_value = market_pen_choice*carbon_value_choice*addnl_tonnes_carbon_captured_acre*scale_choice\n",
    "    \n",
    "    print(f\"\\nOverall Value: {overall_value} ({scale_dict[scale_choice]})\")\n",
    "\n",
    "\n",
    "out = widgets.interactive_output(market_value, {'market_pen_choice': market_pen_choice,\n",
    "                                                'carbon_value_choice':carbon_value_choice,\n",
    "                                                'crop_choice':crop_choice,\n",
    "                                                'scale_choice':scale_choice})\n",
    "\n",
    "widgets.VBox([widgets.VBox([market_pen_choice, carbon_value_choice, crop_choice, scale_choice]), out])"
   ]
  }
 ],
 "metadata": {
  "kernelspec": {
   "display_name": "Python 3",
   "language": "python",
   "name": "python3"
  },
  "language_info": {
   "codemirror_mode": {
    "name": "ipython",
    "version": 3
   },
   "file_extension": ".py",
   "mimetype": "text/x-python",
   "name": "python",
   "nbconvert_exporter": "python",
   "pygments_lexer": "ipython3",
   "version": "3.8.3"
  }
 },
 "nbformat": 4,
 "nbformat_minor": 2
}
